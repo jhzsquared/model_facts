{
 "cells": [
  {
   "cell_type": "markdown",
   "metadata": {},
   "source": [
    "# Model Facts Template\n",
    "This notebook will allow you to generate a Model Facts Label by filling out a form. "
   ]
  },
  {
   "cell_type": "markdown",
   "metadata": {},
   "source": [
    "Requirements: \n",
    "- package installation `pip install modelfacts`\n",
    "- Test data in a csv file with demographic information, true lables, predicted labels, and baseline data as `['true', 'pred', 'baseline']`, respectively\n",
    "- Knowledge of the various other fields (e.g. data set size, split, dates, scores used)\n",
    "\n",
    "How to use:\n",
    "1. Click run on the next cell\n",
    "2. Complete the the form \n",
    "3. Run the next cell \n",
    "4. Model Facts label will be generated! (Screenshot to save)"
   ]
  },
  {
   "cell_type": "code",
   "execution_count": 6,
   "metadata": {},
   "outputs": [
    {
     "data": {
      "application/vnd.jupyter.widget-view+json": {
       "model_id": "712d16b89b394a12b26ae99aa20d29a3",
       "version_major": 2,
       "version_minor": 0
      },
      "text/plain": [
       "ModelFactsWidget(children=(Textarea(value='', description='What is the application of this model?', layout=Lay…"
      ]
     },
     "execution_count": 6,
     "metadata": {},
     "output_type": "execute_result"
    }
   ],
   "source": [
    "# 1st run this cell\n",
    "from modelfacts import ModelFactsWidget\n",
    "wm = ModelFactsWidget()\n",
    "wm"
   ]
  },
  {
   "cell_type": "markdown",
   "metadata": {},
   "source": []
  },
  {
   "cell_type": "code",
   "execution_count": null,
   "metadata": {},
   "outputs": [],
   "source": [
    "# Run this cell after completing the form\n",
    "# Creates the label \n",
    "# You can rerun this cell after reselecting values in the widget \n",
    "# without restarting the notebook\n",
    "table = wm.create_label()"
   ]
  },
  {
   "cell_type": "code",
   "execution_count": null,
   "metadata": {},
   "outputs": [],
   "source": []
  }
 ],
 "metadata": {
  "kernelspec": {
   "display_name": ".model_facts",
   "language": "python",
   "name": "python3"
  },
  "language_info": {
   "codemirror_mode": {
    "name": "ipython",
    "version": 3
   },
   "file_extension": ".py",
   "mimetype": "text/x-python",
   "name": "python",
   "nbconvert_exporter": "python",
   "pygments_lexer": "ipython3",
   "version": "3.10.12"
  }
 },
 "nbformat": 4,
 "nbformat_minor": 2
}
